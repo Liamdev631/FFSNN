{
  "cells": [
    {
      "cell_type": "code",
      "execution_count": 2,
      "metadata": {
        "colab": {
          "base_uri": "https://localhost:8080/",
          "height": 424
        },
        "id": "nlytE0SoenBY",
        "outputId": "d1e77ff0-15fc-4f4a-966b-595d19af721b"
      },
      "outputs": [
        {
          "name": "stdout",
          "output_type": "stream",
          "text": [
            "Simulating 0.1 seconds of activity over 100 cycles.\n",
            "Unexpected exception formatting exception. Falling back to standard exception\n"
          ]
        },
        {
          "name": "stderr",
          "output_type": "stream",
          "text": [
            "Traceback (most recent call last):\n",
            "  File \"c:\\Users\\liamb\\anaconda3\\envs\\thesis_env\\lib\\site-packages\\IPython\\core\\interactiveshell.py\", line 3505, in run_code\n",
            "    exec(code_obj, self.user_global_ns, self.user_ns)\n",
            "  File \"C:\\Users\\liamb\\AppData\\Local\\Temp\\ipykernel_10684\\1129830530.py\", line 15, in <module>\n",
            "    lif_layer = LIFLayer(weights)\n",
            "  File \"c:\\Users\\liamb\\code\\FFSNN\\lif.py\", line 13, in __init__\n",
            "NameError: name 'torch' is not defined\n",
            "\n",
            "During handling of the above exception, another exception occurred:\n",
            "\n",
            "Traceback (most recent call last):\n",
            "  File \"c:\\Users\\liamb\\anaconda3\\envs\\thesis_env\\lib\\site-packages\\IPython\\core\\interactiveshell.py\", line 2102, in showtraceback\n",
            "    stb = self.InteractiveTB.structured_traceback(\n",
            "  File \"c:\\Users\\liamb\\anaconda3\\envs\\thesis_env\\lib\\site-packages\\IPython\\core\\ultratb.py\", line 1310, in structured_traceback\n",
            "    return FormattedTB.structured_traceback(\n",
            "  File \"c:\\Users\\liamb\\anaconda3\\envs\\thesis_env\\lib\\site-packages\\IPython\\core\\ultratb.py\", line 1199, in structured_traceback\n",
            "    return VerboseTB.structured_traceback(\n",
            "  File \"c:\\Users\\liamb\\anaconda3\\envs\\thesis_env\\lib\\site-packages\\IPython\\core\\ultratb.py\", line 1052, in structured_traceback\n",
            "    formatted_exception = self.format_exception_as_a_whole(etype, evalue, etb, number_of_lines_of_context,\n",
            "  File \"c:\\Users\\liamb\\anaconda3\\envs\\thesis_env\\lib\\site-packages\\IPython\\core\\ultratb.py\", line 978, in format_exception_as_a_whole\n",
            "    frames.append(self.format_record(record))\n",
            "  File \"c:\\Users\\liamb\\anaconda3\\envs\\thesis_env\\lib\\site-packages\\IPython\\core\\ultratb.py\", line 878, in format_record\n",
            "    frame_info.lines, Colors, self.has_colors, lvals\n",
            "  File \"c:\\Users\\liamb\\anaconda3\\envs\\thesis_env\\lib\\site-packages\\IPython\\core\\ultratb.py\", line 712, in lines\n",
            "    return self._sd.lines\n",
            "  File \"c:\\Users\\liamb\\anaconda3\\envs\\thesis_env\\lib\\site-packages\\stack_data\\utils.py\", line 144, in cached_property_wrapper\n",
            "    value = obj.__dict__[self.func.__name__] = self.func(obj)\n",
            "  File \"c:\\Users\\liamb\\anaconda3\\envs\\thesis_env\\lib\\site-packages\\stack_data\\core.py\", line 734, in lines\n",
            "    pieces = self.included_pieces\n",
            "  File \"c:\\Users\\liamb\\anaconda3\\envs\\thesis_env\\lib\\site-packages\\stack_data\\utils.py\", line 144, in cached_property_wrapper\n",
            "    value = obj.__dict__[self.func.__name__] = self.func(obj)\n",
            "  File \"c:\\Users\\liamb\\anaconda3\\envs\\thesis_env\\lib\\site-packages\\stack_data\\core.py\", line 681, in included_pieces\n",
            "    pos = scope_pieces.index(self.executing_piece)\n",
            "  File \"c:\\Users\\liamb\\anaconda3\\envs\\thesis_env\\lib\\site-packages\\stack_data\\utils.py\", line 144, in cached_property_wrapper\n",
            "    value = obj.__dict__[self.func.__name__] = self.func(obj)\n",
            "  File \"c:\\Users\\liamb\\anaconda3\\envs\\thesis_env\\lib\\site-packages\\stack_data\\core.py\", line 660, in executing_piece\n",
            "    return only(\n",
            "  File \"c:\\Users\\liamb\\anaconda3\\envs\\thesis_env\\lib\\site-packages\\executing\\executing.py\", line 190, in only\n",
            "    raise NotOneValueFound('Expected one value, found 0')\n",
            "executing.executing.NotOneValueFound: Expected one value, found 0\n"
          ]
        }
      ],
      "source": [
        "import torch\n",
        "import torch.nn as nn\n",
        "import matplotlib.pyplot as plt\n",
        "from lif import LIFLayer\n",
        "\n",
        "dt: float = 1e-3\n",
        "runtime: float = 0.1\n",
        "N: int = 5\n",
        "T: int = int(runtime / dt)\n",
        "print(f'Simulating {runtime} seconds of activity over {T} cycles.')\n",
        "\n",
        "# create a layer of N neurons\n",
        "#weights = torch.rand(size=(1, N))\n",
        "weights = torch.linspace(0, 1, steps=N)\n",
        "lif_layer = LIFLayer(weights)\n",
        "\n",
        "# create a step input of size T\n",
        "step_input = torch.ones((T, 1), dtype=torch.float)\n",
        "\n",
        "# Preallocate tensor storage for outputs and inhibitory_states\n",
        "outputs = torch.zeros(T, N)\n",
        "inhibitory_states = torch.zeros(T, 1)\n",
        "\n",
        "# simulate the layer and store the outputs\n",
        "time = torch.linspace(0, T * lif_layer.dt, T)\n",
        "for i, t in enumerate(time):\n",
        "    spikes = lif_layer(step_input[i])\n",
        "    outputs[i] = lif_layer.state\n",
        "    inhibitory_states[i] = lif_layer.inhibitory_state\n",
        "\n",
        "# Convert tensors to numpy for plotting\n",
        "outputs_np = outputs.numpy()\n",
        "inhibitory_states_np = inhibitory_states.numpy()\n",
        "\n",
        "fig, ax1 = plt.subplots(figsize=(10, 4))\n",
        "\n",
        "color = 'tab:red'\n",
        "ax1.set_xlabel('Time')\n",
        "ax1.set_ylabel('$V_m$', color=color)\n",
        "for i in range(N):\n",
        "    ax1.plot(time, outputs_np[:, i], label=f'$\\omega$={weights[i]}', color=color)\n",
        "ax1.tick_params(axis='y', labelcolor=color)\n",
        "ax1.legend(loc='upper left')\n",
        "\n",
        "ax2 = ax1.twinx()  # instantiate a second axes that shares the same x-axis\n",
        "ax2.set_ylabel('Current/Inhibition', color='tab:blue')  # we already handled the x-label with ax1\n",
        "#ax2.plot(time, step_input.numpy(), color='tab:green', label='Input Current')\n",
        "ax2.plot(time, inhibitory_states_np, color='tab:blue', label='Inhibition')\n",
        "ax2.tick_params(axis='y', labelcolor='tab:blue')\n",
        "ax2.legend(loc='upper right')\n",
        "\n",
        "fig.tight_layout()  # otherwise the right y-label is slightly clipped\n",
        "plt.show()"
      ]
    },
    {
      "cell_type": "code",
      "execution_count": 3,
      "metadata": {
        "colab": {
          "base_uri": "https://localhost:8080/"
        },
        "id": "MWXGbElkjY7i",
        "outputId": "0ce0ffc2-b917-4e29-ed6a-5816e221112d"
      },
      "outputs": [
        {
          "name": "stdout",
          "output_type": "stream",
          "text": [
            "Simulating 0.1 seconds of activity over 1000 cycles.\n",
            "Unexpected exception formatting exception. Falling back to standard exception\n"
          ]
        },
        {
          "name": "stderr",
          "output_type": "stream",
          "text": [
            "Traceback (most recent call last):\n",
            "  File \"c:\\Users\\liamb\\anaconda3\\envs\\thesis_env\\lib\\site-packages\\IPython\\core\\interactiveshell.py\", line 3505, in run_code\n",
            "    exec(code_obj, self.user_global_ns, self.user_ns)\n",
            "  File \"C:\\Users\\liamb\\AppData\\Local\\Temp\\ipykernel_10684\\1881424571.py\", line 10, in <module>\n",
            "    lif_layer = LIFLayer(weights)\n",
            "  File \"c:\\Users\\liamb\\code\\FFSNN\\lif.py\", line 13, in __init__\n",
            "NameError: name 'torch' is not defined\n",
            "\n",
            "During handling of the above exception, another exception occurred:\n",
            "\n",
            "Traceback (most recent call last):\n",
            "  File \"c:\\Users\\liamb\\anaconda3\\envs\\thesis_env\\lib\\site-packages\\IPython\\core\\interactiveshell.py\", line 2102, in showtraceback\n",
            "    stb = self.InteractiveTB.structured_traceback(\n",
            "  File \"c:\\Users\\liamb\\anaconda3\\envs\\thesis_env\\lib\\site-packages\\IPython\\core\\ultratb.py\", line 1310, in structured_traceback\n",
            "    return FormattedTB.structured_traceback(\n",
            "  File \"c:\\Users\\liamb\\anaconda3\\envs\\thesis_env\\lib\\site-packages\\IPython\\core\\ultratb.py\", line 1199, in structured_traceback\n",
            "    return VerboseTB.structured_traceback(\n",
            "  File \"c:\\Users\\liamb\\anaconda3\\envs\\thesis_env\\lib\\site-packages\\IPython\\core\\ultratb.py\", line 1052, in structured_traceback\n",
            "    formatted_exception = self.format_exception_as_a_whole(etype, evalue, etb, number_of_lines_of_context,\n",
            "  File \"c:\\Users\\liamb\\anaconda3\\envs\\thesis_env\\lib\\site-packages\\IPython\\core\\ultratb.py\", line 978, in format_exception_as_a_whole\n",
            "    frames.append(self.format_record(record))\n",
            "  File \"c:\\Users\\liamb\\anaconda3\\envs\\thesis_env\\lib\\site-packages\\IPython\\core\\ultratb.py\", line 878, in format_record\n",
            "    frame_info.lines, Colors, self.has_colors, lvals\n",
            "  File \"c:\\Users\\liamb\\anaconda3\\envs\\thesis_env\\lib\\site-packages\\IPython\\core\\ultratb.py\", line 712, in lines\n",
            "    return self._sd.lines\n",
            "  File \"c:\\Users\\liamb\\anaconda3\\envs\\thesis_env\\lib\\site-packages\\stack_data\\utils.py\", line 144, in cached_property_wrapper\n",
            "    value = obj.__dict__[self.func.__name__] = self.func(obj)\n",
            "  File \"c:\\Users\\liamb\\anaconda3\\envs\\thesis_env\\lib\\site-packages\\stack_data\\core.py\", line 734, in lines\n",
            "    pieces = self.included_pieces\n",
            "  File \"c:\\Users\\liamb\\anaconda3\\envs\\thesis_env\\lib\\site-packages\\stack_data\\utils.py\", line 144, in cached_property_wrapper\n",
            "    value = obj.__dict__[self.func.__name__] = self.func(obj)\n",
            "  File \"c:\\Users\\liamb\\anaconda3\\envs\\thesis_env\\lib\\site-packages\\stack_data\\core.py\", line 681, in included_pieces\n",
            "    pos = scope_pieces.index(self.executing_piece)\n",
            "  File \"c:\\Users\\liamb\\anaconda3\\envs\\thesis_env\\lib\\site-packages\\stack_data\\utils.py\", line 144, in cached_property_wrapper\n",
            "    value = obj.__dict__[self.func.__name__] = self.func(obj)\n",
            "  File \"c:\\Users\\liamb\\anaconda3\\envs\\thesis_env\\lib\\site-packages\\stack_data\\core.py\", line 660, in executing_piece\n",
            "    return only(\n",
            "  File \"c:\\Users\\liamb\\anaconda3\\envs\\thesis_env\\lib\\site-packages\\executing\\executing.py\", line 190, in only\n",
            "    raise NotOneValueFound('Expected one value, found 0')\n",
            "executing.executing.NotOneValueFound: Expected one value, found 0\n"
          ]
        }
      ],
      "source": [
        "dt: float = 1e-4\n",
        "runtime: float = 0.1\n",
        "N: int = 5\n",
        "T: int = int(runtime / dt)\n",
        "print(f'Simulating {runtime} seconds of activity over {T} cycles.')\n",
        "\n",
        "# create a layer of N neurons\n",
        "#weights = torch.rand(size=(1, N))\n",
        "weights = torch.linspace(0, 1, steps=N)\n",
        "lif_layer = LIFLayer(weights)\n",
        "\n",
        "# create a step input of size T\n",
        "step_input = torch.ones((T, 1), dtype=torch.float)\n",
        "\n",
        "# Preallocate tensor storage for spike counts\n",
        "spikes_count = torch.zeros((N,), dtype=torch.int)\n",
        "\n",
        "# simulate the layer and store the outputs\n",
        "time = torch.linspace(0, T * lif_layer.dt, T)\n",
        "for i, t in enumerate(time):\n",
        "    spikes = lif_layer(step_input[i])\n",
        "    spikes_count += spikes.int()\n",
        "\n",
        "# Convert tensors to numpy for plotting\n",
        "spikes_count_np = spikes_count.numpy()"
      ]
    }
  ],
  "metadata": {
    "colab": {
      "authorship_tag": "ABX9TyM45lPtTJjA/XSHRA74lg0F",
      "include_colab_link": true,
      "provenance": []
    },
    "kernelspec": {
      "display_name": "Python 3",
      "name": "python3"
    },
    "language_info": {
      "codemirror_mode": {
        "name": "ipython",
        "version": 3
      },
      "file_extension": ".py",
      "mimetype": "text/x-python",
      "name": "python",
      "nbconvert_exporter": "python",
      "pygments_lexer": "ipython3",
      "version": "3.10.10"
    }
  },
  "nbformat": 4,
  "nbformat_minor": 0
}
